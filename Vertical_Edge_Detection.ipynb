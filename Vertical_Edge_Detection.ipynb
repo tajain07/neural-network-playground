{
  "nbformat": 4,
  "nbformat_minor": 0,
  "metadata": {
    "colab": {
      "name": "Vertical Edge Detection.ipynb",
      "version": "0.3.2",
      "provenance": [],
      "collapsed_sections": [],
      "include_colab_link": true
    },
    "kernelspec": {
      "name": "python3",
      "display_name": "Python 3"
    }
  },
  "cells": [
    {
      "cell_type": "markdown",
      "metadata": {
        "id": "view-in-github",
        "colab_type": "text"
      },
      "source": [
        "<a href=\"https://colab.research.google.com/github/tajain07/neural-network-playground/blob/master/Vertical_Edge_Detection.ipynb\" target=\"_parent\"><img src=\"https://colab.research.google.com/assets/colab-badge.svg\" alt=\"Open In Colab\"/></a>"
      ]
    },
    {
      "metadata": {
        "id": "ZE4flxHqgHa5",
        "colab_type": "code",
        "colab": {}
      },
      "cell_type": "code",
      "source": [
        "import numpy as np\n",
        "import matplotlib.pyplot as plt"
      ],
      "execution_count": 0,
      "outputs": []
    },
    {
      "metadata": {
        "id": "IAjAQ0Z_gRqa",
        "colab_type": "code",
        "colab": {
          "base_uri": "https://localhost:8080/",
          "height": 119
        },
        "outputId": "68f9b4b0-fff5-4290-f59d-9802afc9f9a9"
      },
      "cell_type": "code",
      "source": [
        "x = np.array([\n",
        "     [10,10,10,0,0,0],\n",
        "     [10,10,10,0,0,0],\n",
        "     [10,10,10,0,0,0],\n",
        "     [10,10,10,0,0,0],\n",
        "     [10,10,10,0,0,0],\n",
        "     [10,10,10,0,0,0]])\n",
        "x"
      ],
      "execution_count": 38,
      "outputs": [
        {
          "output_type": "execute_result",
          "data": {
            "text/plain": [
              "array([[10, 10, 10,  0,  0,  0],\n",
              "       [10, 10, 10,  0,  0,  0],\n",
              "       [10, 10, 10,  0,  0,  0],\n",
              "       [10, 10, 10,  0,  0,  0],\n",
              "       [10, 10, 10,  0,  0,  0],\n",
              "       [10, 10, 10,  0,  0,  0]])"
            ]
          },
          "metadata": {
            "tags": []
          },
          "execution_count": 38
        }
      ]
    },
    {
      "metadata": {
        "id": "GIZCYtULg7cC",
        "colab_type": "code",
        "colab": {
          "base_uri": "https://localhost:8080/",
          "height": 34
        },
        "outputId": "22f226d1-3a64-411c-9723-9e46cec3a74c"
      },
      "cell_type": "code",
      "source": [
        "x.shape"
      ],
      "execution_count": 39,
      "outputs": [
        {
          "output_type": "execute_result",
          "data": {
            "text/plain": [
              "(6, 6)"
            ]
          },
          "metadata": {
            "tags": []
          },
          "execution_count": 39
        }
      ]
    },
    {
      "metadata": {
        "id": "SJRhgTNzgZg8",
        "colab_type": "code",
        "colab": {
          "base_uri": "https://localhost:8080/",
          "height": 364
        },
        "outputId": "2996f4fa-d5ce-4073-c72b-7986e599d9a5"
      },
      "cell_type": "code",
      "source": [
        "plt.gray()\n",
        "plt.imshow(x)"
      ],
      "execution_count": 40,
      "outputs": [
        {
          "output_type": "execute_result",
          "data": {
            "text/plain": [
              "<matplotlib.image.AxesImage at 0x7f3ce8fbc320>"
            ]
          },
          "metadata": {
            "tags": []
          },
          "execution_count": 40
        },
        {
          "output_type": "display_data",
          "data": {
            "image/png": "[encoded data removed]",
            "text/plain": [
              "<matplotlib.figure.Figure at 0x7f3ce96bfdd8>"
            ]
          },
          "metadata": {
            "tags": []
          }
        }
      ]
    },
    {
      "metadata": {
        "id": "3f_695o5ggo9",
        "colab_type": "code",
        "colab": {
          "base_uri": "https://localhost:8080/",
          "height": 68
        },
        "outputId": "5ca68217-0cb3-45a3-dbde-486758f5a194"
      },
      "cell_type": "code",
      "source": [
        "verticalFilter = np.array([[1,0,-1],\n",
        "                           [1,0,-1],\n",
        "                           [1,0,-1]])\n",
        "verticalFilter"
      ],
      "execution_count": 41,
      "outputs": [
        {
          "output_type": "execute_result",
          "data": {
            "text/plain": [
              "array([[ 1,  0, -1],\n",
              "       [ 1,  0, -1],\n",
              "       [ 1,  0, -1]])"
            ]
          },
          "metadata": {
            "tags": []
          },
          "execution_count": 41
        }
      ]
    },
    {
      "metadata": {
        "id": "ac7k0ptGgiIm",
        "colab_type": "code",
        "colab": {}
      },
      "cell_type": "code",
      "source": [
        "import scipy\n",
        "from scipy import signal"
      ],
      "execution_count": 0,
      "outputs": []
    },
    {
      "metadata": {
        "id": "TbBjK1Ati9d4",
        "colab_type": "code",
        "colab": {
          "base_uri": "https://localhost:8080/",
          "height": 85
        },
        "outputId": "bff79eaf-03c9-4d54-ecf6-e42bc871d25e"
      },
      "cell_type": "code",
      "source": [
        "image_sharpen = scipy.signal.convolve2d(x, verticalFilter, boundary='symm', mode='valid')\n",
        "#image_sharpen = image_sharpen*-1\n",
        "image_sharpen"
      ],
      "execution_count": 58,
      "outputs": [
        {
          "output_type": "execute_result",
          "data": {
            "text/plain": [
              "array([[  0, -30, -30,   0],\n",
              "       [  0, -30, -30,   0],\n",
              "       [  0, -30, -30,   0],\n",
              "       [  0, -30, -30,   0]])"
            ]
          },
          "metadata": {
            "tags": []
          },
          "execution_count": 58
        }
      ]
    },
    {
      "metadata": {
        "id": "2m1ii6I7l0ZF",
        "colab_type": "code",
        "colab": {
          "base_uri": "https://localhost:8080/",
          "height": 34
        },
        "outputId": "78da8e4c-8c3f-443f-98b4-8deb52ec475f"
      },
      "cell_type": "code",
      "source": [
        "image_sharpen.shape"
      ],
      "execution_count": 59,
      "outputs": [
        {
          "output_type": "execute_result",
          "data": {
            "text/plain": [
              "(4, 4)"
            ]
          },
          "metadata": {
            "tags": []
          },
          "execution_count": 59
        }
      ]
    },
    {
      "metadata": {
        "id": "ywTraoRGkDHd",
        "colab_type": "code",
        "colab": {
          "base_uri": "https://localhost:8080/",
          "height": 368
        },
        "outputId": "6504bd3e-a041-4ebf-c0a4-ab8ed5c10903"
      },
      "cell_type": "code",
      "source": [
        "plt.imshow(image_sharpen)"
      ],
      "execution_count": 60,
      "outputs": [
        {
          "output_type": "execute_result",
          "data": {
            "text/plain": [
              "<matplotlib.image.AxesImage at 0x7f3ce8cd92e8>"
            ]
          },
          "metadata": {
            "tags": []
          },
          "execution_count": 60
        },
        {
          "output_type": "display_data",
          "data": {
            "image/png": "[encoded data removed]",
            "text/plain": [
              "<matplotlib.figure.Figure at 0x7f3ce8d48978>"
            ]
          },
          "metadata": {
            "tags": []
          }
        }
      ]
    },
    {
      "metadata": {
        "id": "N0Tes70ekgd8",
        "colab_type": "code",
        "colab": {}
      },
      "cell_type": "code",
      "source": [
        ""
      ],
      "execution_count": 0,
      "outputs": []
    }
  ]
}