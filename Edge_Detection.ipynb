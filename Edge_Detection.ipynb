{
  "nbformat": 4,
  "nbformat_minor": 0,
  "metadata": {
    "colab": {
      "name": "Edge Detection.ipynb",
      "version": "0.3.2",
      "provenance": [],
      "collapsed_sections": [],
      "include_colab_link": true
    },
    "kernelspec": {
      "name": "python3",
      "display_name": "Python 3"
    }
  },
  "cells": [
    {
      "cell_type": "markdown",
      "metadata": {
        "id": "view-in-github",
        "colab_type": "text"
      },
      "source": [
        "<a href=\"https://colab.research.google.com/github/tajain07/neural-network-playground/blob/master/Edge_Detection.ipynb\" target=\"_parent\"><img src=\"https://colab.research.google.com/assets/colab-badge.svg\" alt=\"Open In Colab\"/></a>"
      ]
    },
    {
      "metadata": {
        "id": "ZE4flxHqgHa5",
        "colab_type": "code",
        "colab": {}
      },
      "cell_type": "code",
      "source": [
        "import numpy as np\n",
        "import matplotlib.pyplot as plt"
      ],
      "execution_count": 0,
      "outputs": []
    },
    {
      "metadata": {
        "id": "IAjAQ0Z_gRqa",
        "colab_type": "code",
        "outputId": "88afcb53-6789-439b-d022-62f038cff15d",
        "colab": {
          "base_uri": "https://localhost:8080/",
          "height": 119
        }
      },
      "cell_type": "code",
      "source": [
        "x = np.array([\n",
        "     [10,10,10,0,0,0],\n",
        "     [10,10,10,0,0,0],\n",
        "     [10,10,10,0,0,0],\n",
        "     [10,10,10,0,0,0],\n",
        "     [10,10,10,0,0,0],\n",
        "     [10,10,10,0,0,0]])\n",
        "x"
      ],
      "execution_count": 101,
      "outputs": [
        {
          "output_type": "execute_result",
          "data": {
            "text/plain": [
              "array([[10, 10, 10,  0,  0,  0],\n",
              "       [10, 10, 10,  0,  0,  0],\n",
              "       [10, 10, 10,  0,  0,  0],\n",
              "       [10, 10, 10,  0,  0,  0],\n",
              "       [10, 10, 10,  0,  0,  0],\n",
              "       [10, 10, 10,  0,  0,  0]])"
            ]
          },
          "metadata": {
            "tags": []
          },
          "execution_count": 101
        }
      ]
    },
    {
      "metadata": {
        "id": "GIZCYtULg7cC",
        "colab_type": "code",
        "outputId": "63a1298e-e2aa-4296-c7b6-35e145e4ac0f",
        "colab": {
          "base_uri": "https://localhost:8080/",
          "height": 34
        }
      },
      "cell_type": "code",
      "source": [
        "x.shape"
      ],
      "execution_count": 102,
      "outputs": [
        {
          "output_type": "execute_result",
          "data": {
            "text/plain": [
              "(6, 6)"
            ]
          },
          "metadata": {
            "tags": []
          },
          "execution_count": 102
        }
      ]
    },
    {
      "metadata": {
        "id": "SJRhgTNzgZg8",
        "colab_type": "code",
        "outputId": "94bcef3e-131e-4359-9b7c-1e166d5b98ac",
        "colab": {
          "base_uri": "https://localhost:8080/",
          "height": 364
        }
      },
      "cell_type": "code",
      "source": [
        "plt.gray()\n",
        "plt.imshow(x)"
      ],
      "execution_count": 103,
      "outputs": [
        {
          "output_type": "execute_result",
          "data": {
            "text/plain": [
              "<matplotlib.image.AxesImage at 0x7f3ce881c710>"
            ]
          },
          "metadata": {
            "tags": []
          },
          "execution_count": 103
        },
        {
          "output_type": "display_data",
          "data": {
            "image/png": "[encoded data removed]",
            "text/plain": [
              "<matplotlib.figure.Figure at 0x7f3ce8888358>"
            ]
          },
          "metadata": {
            "tags": []
          }
        }
      ]
    },
    {
      "metadata": {
        "id": "9A0Ee20sowBP",
        "colab_type": "text"
      },
      "cell_type": "markdown",
      "source": [
        "## Veritical Edge Detection "
      ]
    },
    {
      "metadata": {
        "id": "3f_695o5ggo9",
        "colab_type": "code",
        "outputId": "62e71732-17c3-42cf-8000-71e30f2d7be2",
        "colab": {
          "base_uri": "https://localhost:8080/",
          "height": 68
        }
      },
      "cell_type": "code",
      "source": [
        "verticalFilter = np.array([[1,0,-1],\n",
        "                           [1,0,-1],\n",
        "                           [1,0,-1]])\n",
        "verticalFilter"
      ],
      "execution_count": 104,
      "outputs": [
        {
          "output_type": "execute_result",
          "data": {
            "text/plain": [
              "array([[ 1,  0, -1],\n",
              "       [ 1,  0, -1],\n",
              "       [ 1,  0, -1]])"
            ]
          },
          "metadata": {
            "tags": []
          },
          "execution_count": 104
        }
      ]
    },
    {
      "metadata": {
        "id": "ac7k0ptGgiIm",
        "colab_type": "code",
        "colab": {}
      },
      "cell_type": "code",
      "source": [
        "import scipy\n",
        "from scipy import signal"
      ],
      "execution_count": 0,
      "outputs": []
    },
    {
      "metadata": {
        "id": "TbBjK1Ati9d4",
        "colab_type": "code",
        "outputId": "b4bf3eca-7461-40bc-8da7-1cdb3aa35461",
        "colab": {
          "base_uri": "https://localhost:8080/",
          "height": 85
        }
      },
      "cell_type": "code",
      "source": [
        "image_vertical = scipy.signal.convolve2d(x, verticalFilter, boundary='symm', mode='valid')\n",
        "image_vertical = image_vertical*-1\n",
        "image_vertical"
      ],
      "execution_count": 110,
      "outputs": [
        {
          "output_type": "execute_result",
          "data": {
            "text/plain": [
              "array([[ 0, 30, 30,  0],\n",
              "       [ 0, 30, 30,  0],\n",
              "       [ 0, 30, 30,  0],\n",
              "       [ 0, 30, 30,  0]])"
            ]
          },
          "metadata": {
            "tags": []
          },
          "execution_count": 110
        }
      ]
    },
    {
      "metadata": {
        "id": "2m1ii6I7l0ZF",
        "colab_type": "code",
        "outputId": "38705230-896f-461b-dab2-312e8804e380",
        "colab": {
          "base_uri": "https://localhost:8080/",
          "height": 34
        }
      },
      "cell_type": "code",
      "source": [
        "image_vertical.shape"
      ],
      "execution_count": 111,
      "outputs": [
        {
          "output_type": "execute_result",
          "data": {
            "text/plain": [
              "(4, 4)"
            ]
          },
          "metadata": {
            "tags": []
          },
          "execution_count": 111
        }
      ]
    },
    {
      "metadata": {
        "id": "ywTraoRGkDHd",
        "colab_type": "code",
        "outputId": "25cbc36f-8498-409b-c27d-58f993c6675f",
        "colab": {
          "base_uri": "https://localhost:8080/",
          "height": 368
        }
      },
      "cell_type": "code",
      "source": [
        "plt.imshow(image_vertical)"
      ],
      "execution_count": 112,
      "outputs": [
        {
          "output_type": "execute_result",
          "data": {
            "text/plain": [
              "<matplotlib.image.AxesImage at 0x7f3ce875ce10>"
            ]
          },
          "metadata": {
            "tags": []
          },
          "execution_count": 112
        },
        {
          "output_type": "display_data",
          "data": {
            "image/png": "[encoded data removed]",
            "text/plain": [
              "<matplotlib.figure.Figure at 0x7f3ce8875c88>"
            ]
          },
          "metadata": {
            "tags": []
          }
        }
      ]
    },
    {
      "metadata": {
        "id": "DX9Yft0uo120",
        "colab_type": "text"
      },
      "cell_type": "markdown",
      "source": [
        "### Sobel Filter"
      ]
    },
    {
      "metadata": {
        "id": "N0Tes70ekgd8",
        "colab_type": "code",
        "colab": {
          "base_uri": "https://localhost:8080/",
          "height": 68
        },
        "outputId": "9e76f876-23d5-4413-84b9-a3d2c18c45ac"
      },
      "cell_type": "code",
      "source": [
        "sobel_filter = np.array([[1,0,-1],\n",
        "                        [2,0,-2],\n",
        "                        [1,0,-1]])\n",
        "sobel_filter"
      ],
      "execution_count": 117,
      "outputs": [
        {
          "output_type": "execute_result",
          "data": {
            "text/plain": [
              "array([[ 1,  0, -1],\n",
              "       [ 2,  0, -2],\n",
              "       [ 1,  0, -1]])"
            ]
          },
          "metadata": {
            "tags": []
          },
          "execution_count": 117
        }
      ]
    },
    {
      "metadata": {
        "id": "_mbvMYzgpINJ",
        "colab_type": "code",
        "colab": {
          "base_uri": "https://localhost:8080/",
          "height": 85
        },
        "outputId": "97b700ee-8407-439c-badb-2ebf1e272617"
      },
      "cell_type": "code",
      "source": [
        "image_vertical_sober = scipy.signal.convolve2d(x, sobel_filter, boundary='symm', mode='valid')\n",
        "image_vertical_sober"
      ],
      "execution_count": 118,
      "outputs": [
        {
          "output_type": "execute_result",
          "data": {
            "text/plain": [
              "array([[  0, -40, -40,   0],\n",
              "       [  0, -40, -40,   0],\n",
              "       [  0, -40, -40,   0],\n",
              "       [  0, -40, -40,   0]])"
            ]
          },
          "metadata": {
            "tags": []
          },
          "execution_count": 118
        }
      ]
    },
    {
      "metadata": {
        "id": "fLFqZ0pMpXfN",
        "colab_type": "code",
        "colab": {
          "base_uri": "https://localhost:8080/",
          "height": 368
        },
        "outputId": "0f88b975-2460-4143-9a3e-bb5632363493"
      },
      "cell_type": "code",
      "source": [
        "plt.imshow(image_vertical_sober)"
      ],
      "execution_count": 119,
      "outputs": [
        {
          "output_type": "execute_result",
          "data": {
            "text/plain": [
              "<matplotlib.image.AxesImage at 0x7f3ce8611e80>"
            ]
          },
          "metadata": {
            "tags": []
          },
          "execution_count": 119
        },
        {
          "output_type": "display_data",
          "data": {
            "image/png": "[encoded data removed]",
            "text/plain": [
              "<matplotlib.figure.Figure at 0x7f3ce8685438>"
            ]
          },
          "metadata": {
            "tags": []
          }
        }
      ]
    },
    {
      "metadata": {
        "id": "pSPGA6t0pYjN",
        "colab_type": "code",
        "colab": {
          "base_uri": "https://localhost:8080/",
          "height": 68
        },
        "outputId": "9e31df08-4a3a-49aa-ad6a-38413e82008f"
      },
      "cell_type": "code",
      "source": [
        "schross_filter = np.array([\n",
        "                        [3,0,-3],\n",
        "                        [10,0,-10],\n",
        "                        [3,0,-3]])\n",
        "schross_filter"
      ],
      "execution_count": 121,
      "outputs": [
        {
          "output_type": "execute_result",
          "data": {
            "text/plain": [
              "array([[  3,   0,  -3],\n",
              "       [ 10,   0, -10],\n",
              "       [  3,   0,  -3]])"
            ]
          },
          "metadata": {
            "tags": []
          },
          "execution_count": 121
        }
      ]
    },
    {
      "metadata": {
        "id": "Qu4rE7PQplrA",
        "colab_type": "code",
        "colab": {
          "base_uri": "https://localhost:8080/",
          "height": 85
        },
        "outputId": "88b90e47-8bc4-41ec-f5a9-b2238e1ce8d1"
      },
      "cell_type": "code",
      "source": [
        "image_vertical_schross = scipy.signal.convolve2d(x, schross_filter, boundary='symm', mode='valid')\n",
        "image_vertical_schross"
      ],
      "execution_count": 122,
      "outputs": [
        {
          "output_type": "execute_result",
          "data": {
            "text/plain": [
              "array([[   0, -160, -160,    0],\n",
              "       [   0, -160, -160,    0],\n",
              "       [   0, -160, -160,    0],\n",
              "       [   0, -160, -160,    0]])"
            ]
          },
          "metadata": {
            "tags": []
          },
          "execution_count": 122
        }
      ]
    },
    {
      "metadata": {
        "id": "cJ-1fj9HpyIz",
        "colab_type": "code",
        "colab": {
          "base_uri": "https://localhost:8080/",
          "height": 368
        },
        "outputId": "01d5796d-8f9d-4463-e0ca-692c0b08cc1e"
      },
      "cell_type": "code",
      "source": [
        "plt.imshow(image_vertical_schross)"
      ],
      "execution_count": 123,
      "outputs": [
        {
          "output_type": "execute_result",
          "data": {
            "text/plain": [
              "<matplotlib.image.AxesImage at 0x7f3ce857e470>"
            ]
          },
          "metadata": {
            "tags": []
          },
          "execution_count": 123
        },
        {
          "output_type": "display_data",
          "data": {
            "image/png": "[encoded data removed]",
            "text/plain": [
              "<matplotlib.figure.Figure at 0x7f3ce86795f8>"
            ]
          },
          "metadata": {
            "tags": []
          }
        }
      ]
    },
    {
      "metadata": {
        "id": "gQj24dQrp0FK",
        "colab_type": "code",
        "colab": {}
      },
      "cell_type": "code",
      "source": [
        ""
      ],
      "execution_count": 0,
      "outputs": []
    }
  ]
}