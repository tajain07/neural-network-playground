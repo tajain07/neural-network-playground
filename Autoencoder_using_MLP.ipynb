{
  "nbformat": 4,
  "nbformat_minor": 0,
  "metadata": {
    "colab": {
      "name": "Autoencoder using MLP.ipynb",
      "version": "0.3.2",
      "provenance": [],
      "collapsed_sections": [],
      "include_colab_link": true
    },
    "kernelspec": {
      "name": "python3",
      "display_name": "Python 3"
    },
    "accelerator": "GPU"
  },
  "cells": [
    {
      "cell_type": "markdown",
      "metadata": {
        "id": "view-in-github",
        "colab_type": "text"
      },
      "source": [
        "<a href=\"https://colab.research.google.com/github/tajain07/neural-network-playground/blob/master/Autoencoder_using_MLP.ipynb\" target=\"_parent\"><img src=\"https://colab.research.google.com/assets/colab-badge.svg\" alt=\"Open In Colab\"/></a>"
      ]
    },
    {
      "metadata": {
        "id": "Ve93DiqIJDqt",
        "colab_type": "code",
        "colab": {
          "base_uri": "https://localhost:8080/",
          "height": 54
        },
        "outputId": "70fa3db0-e14e-465b-89e7-f5ac2ea050a4"
      },
      "cell_type": "code",
      "source": [
        "'''\n",
        "# http://pytorch.org/\n",
        "from os.path import exists\n",
        "from wheel.pep425tags import get_abbr_impl, get_impl_ver, get_abi_tag\n",
        "platform = '{}{}-{}'.format(get_abbr_impl(), get_impl_ver(), get_abi_tag())\n",
        "cuda_output = !ldconfig -p|grep cudart.so|sed -e 's/.*\\.\\([0-9]*\\)\\.\\([0-9]*\\)$/cu\\1\\2/'\n",
        "accelerator = cuda_output[0] if exists('/dev/nvidia0') else 'cpu'\n",
        "\n",
        "!pip install -q http://download.pytorch.org/whl/{accelerator}/torch-0.4.1-{platform}-linux_x86_64.whl torchvision\n",
        "\n",
        "# Restart Kernel\n",
        "# This workaround is needed to properly upgrade PIL on Google Colab.\n",
        "import os\n",
        "os._exit(00)\n",
        "'''"
      ],
      "execution_count": 1,
      "outputs": [
        {
          "output_type": "execute_result",
          "data": {
            "text/plain": [
              "\"\\n# http://pytorch.org/\\nfrom os.path import exists\\nfrom wheel.pep425tags import get_abbr_impl, get_impl_ver, get_abi_tag\\nplatform = '{}{}-{}'.format(get_abbr_impl(), get_impl_ver(), get_abi_tag())\\ncuda_output = !ldconfig -p|grep cudart.so|sed -e 's/.*\\\\.\\\\([0-9]*\\\\)\\\\.\\\\([0-9]*\\\\)$/cu\\x01\\x02/'\\naccelerator = cuda_output[0] if exists('/dev/nvidia0') else 'cpu'\\n\\n!pip install -q http://download.pytorch.org/whl/{accelerator}/torch-0.4.1-{platform}-linux_x86_64.whl torchvision\\n\\n# Restart Kernel\\n# This workaround is needed to properly upgrade PIL on Google Colab.\\nimport os\\nos._exit(00)\\n\""
            ]
          },
          "metadata": {
            "tags": []
          },
          "execution_count": 1
        }
      ]
    },
    {
      "metadata": {
        "id": "8xz2UxprIx-k",
        "colab_type": "code",
        "colab": {}
      },
      "cell_type": "code",
      "source": [
        "import torch\n",
        "import numpy as np\n",
        "from torchvision import datasets\n",
        "import torchvision.transforms as transforms"
      ],
      "execution_count": 0,
      "outputs": []
    },
    {
      "metadata": {
        "id": "dWMODDeaK_Ff",
        "colab_type": "code",
        "colab": {}
      },
      "cell_type": "code",
      "source": [
        "transform = transforms.ToTensor()\n",
        "\n",
        "train_data = datasets.MNIST(root='data', train=True, \n",
        "                            download=True, transform=transform)\n",
        "test_data = datasets.MNIST(root='data', train=False, \n",
        "                            download=True, transform=transform)"
      ],
      "execution_count": 0,
      "outputs": []
    },
    {
      "metadata": {
        "id": "NTbq_eERLans",
        "colab_type": "code",
        "colab": {}
      },
      "cell_type": "code",
      "source": [
        "num_workers = 0\n",
        "batch_size = 20\n",
        "\n",
        "train_loader = torch.utils.data.DataLoader(train_data, batch_size=batch_size, num_workers=num_workers)\n",
        "test_loader =  torch.utils.data.DataLoader(test_data, batch_size=batch_size, num_workers=num_workers)"
      ],
      "execution_count": 0,
      "outputs": []
    },
    {
      "metadata": {
        "id": "aXuqSCVkL0Om",
        "colab_type": "code",
        "colab": {}
      },
      "cell_type": "code",
      "source": [
        "import matplotlib.pyplot as plt\n",
        "%matplotlib inline"
      ],
      "execution_count": 0,
      "outputs": []
    },
    {
      "metadata": {
        "id": "DTQ5yayHL7Yw",
        "colab_type": "code",
        "outputId": "87134249-bd86-4477-a83f-3089594084a3",
        "colab": {
          "base_uri": "https://localhost:8080/",
          "height": 337
        }
      },
      "cell_type": "code",
      "source": [
        "dataiter = iter(train_loader)\n",
        "images, labels = dataiter.next()\n",
        "images = images.numpy()\n",
        "\n",
        "img = np.squeeze(images[0])\n",
        "\n",
        "fig = plt.figure(figsize = (5,5))\n",
        "ax = fig.add_subplot(111)\n",
        "ax.imshow(img, cmap='gray')"
      ],
      "execution_count": 6,
      "outputs": [
        {
          "output_type": "execute_result",
          "data": {
            "text/plain": [
              "<matplotlib.image.AxesImage at 0x7f5dc32e6240>"
            ]
          },
          "metadata": {
            "tags": []
          },
          "execution_count": 6
        },
        {
          "output_type": "display_data",
          "data": {
            "image/png": "[encoded data removed]",
            "text/plain": [
              "<matplotlib.figure.Figure at 0x7f5dc330b518>"
            ]
          },
          "metadata": {
            "tags": []
          }
        }
      ]
    },
    {
      "metadata": {
        "id": "9nKMq8VJMHm6",
        "colab_type": "code",
        "colab": {
          "base_uri": "https://localhost:8080/",
          "height": 85
        },
        "outputId": "36d27a42-20c3-4136-9f72-4280fb2af824"
      },
      "cell_type": "code",
      "source": [
        "import torch\n",
        "import torch.nn as nn\n",
        "import torch.nn.functional as F\n",
        "\n",
        "class Autoencoder(nn.Module):\n",
        "  def __init__(self, encoding_dim):\n",
        "    super(Autoencoder, self).__init__()\n",
        "    \n",
        "    #encoder \n",
        "    #784 --> encoding_dim\n",
        "    self.fc1 = nn.Linear(28 * 28, encoding_dim)\n",
        "    \n",
        "    #decoder\n",
        "    #encoding_dim --> 784\n",
        "    self.fc2 = nn.Linear(encoding_dim, 28*28)\n",
        " \n",
        "  def forward(self, x):\n",
        "    x = F.relu(self.fc1(x))\n",
        "    #ouput latyer - (sigmoid for scaling from 0 to 1)\n",
        "    x = torch.sigmoid(self.fc2(x))\n",
        "    return x\n",
        "  \n",
        "encoding_dim = 32\n",
        "model = Autoencoder(encoding_dim)\n",
        "print(model)\n",
        " "
      ],
      "execution_count": 7,
      "outputs": [
        {
          "output_type": "stream",
          "text": [
            "Autoencoder(\n",
            "  (fc1): Linear(in_features=784, out_features=32, bias=True)\n",
            "  (fc2): Linear(in_features=32, out_features=784, bias=True)\n",
            ")\n"
          ],
          "name": "stdout"
        }
      ]
    },
    {
      "metadata": {
        "id": "sFC5qIoFNVoJ",
        "colab_type": "code",
        "colab": {}
      },
      "cell_type": "code",
      "source": [
        "criterion = nn.MSELoss()\n",
        "optimizer = torch.optim.Adam(model.parameters(), lr = 0.001)"
      ],
      "execution_count": 0,
      "outputs": []
    },
    {
      "metadata": {
        "id": "NLUmHSORNnD4",
        "colab_type": "code",
        "outputId": "a303e3b4-614a-4020-f7a2-d41bc48d1045",
        "colab": {
          "base_uri": "https://localhost:8080/",
          "height": 357
        }
      },
      "cell_type": "code",
      "source": [
        "n_epochs = 20\n",
        "\n",
        "for epoch in range(1, n_epochs+1):\n",
        "    train_loss = 0.0\n",
        "    for data in train_loader:\n",
        "      images, _ = data\n",
        "      # flatten images\n",
        "      images = images.view(images.size(0), -1)\n",
        "      \n",
        "      optimizer.zero_grad()\n",
        "      outputs = model(images)\n",
        "      loss = criterion(outputs, images)\n",
        "      \n",
        "      # backward pass: compute gradient of the loss with respect to model params\n",
        "      loss.backward()\n",
        "      \n",
        "      # perform a single optimization step (parameter update)\n",
        "      optimizer.step()\n",
        "      train_loss += loss.item()*images.size(0)\n",
        "      \n",
        "    train_loss = train_loss/len(train_loader)\n",
        "    print('Epoch: {} \\tTraining Loss: {:.6f}'.format(\n",
        "        epoch, \n",
        "        train_loss\n",
        "        ))"
      ],
      "execution_count": 10,
      "outputs": [
        {
          "output_type": "stream",
          "text": [
            "Epoch: 1 \tTraining Loss: 0.283931\n",
            "Epoch: 2 \tTraining Loss: 0.272994\n",
            "Epoch: 3 \tTraining Loss: 0.268790\n",
            "Epoch: 4 \tTraining Loss: 0.266304\n",
            "Epoch: 5 \tTraining Loss: 0.264843\n",
            "Epoch: 6 \tTraining Loss: 0.263794\n",
            "Epoch: 7 \tTraining Loss: 0.262996\n",
            "Epoch: 8 \tTraining Loss: 0.262332\n",
            "Epoch: 9 \tTraining Loss: 0.261750\n",
            "Epoch: 10 \tTraining Loss: 0.261238\n",
            "Epoch: 11 \tTraining Loss: 0.260752\n",
            "Epoch: 12 \tTraining Loss: 0.260324\n",
            "Epoch: 13 \tTraining Loss: 0.259929\n",
            "Epoch: 14 \tTraining Loss: 0.259512\n",
            "Epoch: 15 \tTraining Loss: 0.259098\n",
            "Epoch: 16 \tTraining Loss: 0.258738\n",
            "Epoch: 17 \tTraining Loss: 0.258419\n",
            "Epoch: 18 \tTraining Loss: 0.258116\n",
            "Epoch: 19 \tTraining Loss: 0.257824\n",
            "Epoch: 20 \tTraining Loss: 0.257544\n"
          ],
          "name": "stdout"
        }
      ]
    },
    {
      "metadata": {
        "id": "eWJ5YI9MOx0B",
        "colab_type": "code",
        "outputId": "be938883-97b1-42b5-f96d-2e017b6eeae5",
        "colab": {
          "base_uri": "https://localhost:8080/",
          "height": 268
        }
      },
      "cell_type": "code",
      "source": [
        "dataiter = iter(test_loader)\n",
        "images, labels = dataiter.next()\n",
        "\n",
        "images_flatten = images.view(images.size(0), -1)\n",
        "output = model(images_flatten)\n",
        "images = images.numpy()\n",
        "\n",
        "output = output.view(batch_size, 1, 28, 28)\n",
        "output = output.detach().numpy()\n",
        "\n",
        "fig, axes = plt.subplots(nrows=2, ncols=10, sharex=True, sharey=True, figsize=(25,4))\n",
        "\n",
        "for images, row in zip([images, output], axes):\n",
        "  for img, ax in zip(images, row):\n",
        "    ax.imshow(np.squeeze(img), cmap='gray')\n",
        "    ax.get_xaxis().set_visible(False)\n",
        "    ax.get_yaxis().set_visible(False)"
      ],
      "execution_count": 11,
      "outputs": [
        {
          "output_type": "display_data",
          "data": {
            "image/png": "[encoded data removed]",
            "text/plain": [
              "<matplotlib.figure.Figure at 0x7f5dc330b470>"
            ]
          },
          "metadata": {
            "tags": []
          }
        }
      ]
    }
  ]
}