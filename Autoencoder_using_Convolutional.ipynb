{
  "nbformat": 4,
  "nbformat_minor": 0,
  "metadata": {
    "colab": {
      "name": "Autoencoder using Convolutional.ipynb",
      "version": "0.3.2",
      "provenance": [],
      "collapsed_sections": [],
      "include_colab_link": true
    },
    "kernelspec": {
      "name": "python3",
      "display_name": "Python 3"
    },
    "accelerator": "GPU"
  },
  "cells": [
    {
      "cell_type": "markdown",
      "metadata": {
        "id": "view-in-github",
        "colab_type": "text"
      },
      "source": [
        "<a href=\"https://colab.research.google.com/github/tajain07/neural-network-playground/blob/master/Autoencoder_using_Convolutional.ipynb\" target=\"_parent\"><img src=\"https://colab.research.google.com/assets/colab-badge.svg\" alt=\"Open In Colab\"/></a>"
      ]
    },
    {
      "metadata": {
        "id": "Y2TKlh_RRBQs",
        "colab_type": "code",
        "colab": {}
      },
      "cell_type": "code",
      "source": [
        "import torch\n",
        "import numpy as np\n",
        "from torchvision import datasets\n",
        "import torchvision.transforms as transforms"
      ],
      "execution_count": 0,
      "outputs": []
    },
    {
      "metadata": {
        "id": "J3qeui19RTHv",
        "colab_type": "code",
        "colab": {}
      },
      "cell_type": "code",
      "source": [
        "transform = transforms.ToTensor()\n",
        "\n",
        "train_data = datasets.MNIST(root='data', train=True,\n",
        "                            download=True, transform=transform)\n",
        "\n",
        "test_data = datasets.MNIST(root='data', train=True, \n",
        "                           download=True, transform=transform)"
      ],
      "execution_count": 0,
      "outputs": []
    },
    {
      "metadata": {
        "id": "h0ULIRvGRpjG",
        "colab_type": "code",
        "colab": {}
      },
      "cell_type": "code",
      "source": [
        "num_workers = 0\n",
        "batch_size = 20\n",
        "\n",
        "train_loader = torch.utils.data.DataLoader(train_data, batch_size=batch_size,\n",
        "                                           num_workers=num_workers)\n",
        "\n",
        "test_loader = torch.utils.data.DataLoader(test_data, batch_size=batch_size,\n",
        "                                           num_workers=num_workers)"
      ],
      "execution_count": 0,
      "outputs": []
    },
    {
      "metadata": {
        "id": "B3Mw-OsgR53l",
        "colab_type": "code",
        "colab": {
          "base_uri": "https://localhost:8080/",
          "height": 337
        },
        "outputId": "28a61aeb-3f9c-43d9-b845-74e34801aa8d"
      },
      "cell_type": "code",
      "source": [
        "import matplotlib.pyplot as plt\n",
        "%matplotlib inline\n",
        "\n",
        "dataiter = iter(train_loader)\n",
        "images, labels = dataiter.next()\n",
        "images = images.numpy()\n",
        "\n",
        "# get one image from the batch\n",
        "img = np.squeeze(images[0])\n",
        "\n",
        "fig = plt.figure(figsize = (5,5))\n",
        "ax = fig.add_subplot(111)\n",
        "ax.imshow(img, cmap='gray')"
      ],
      "execution_count": 7,
      "outputs": [
        {
          "output_type": "execute_result",
          "data": {
            "text/plain": [
              "<matplotlib.image.AxesImage at 0x7f0a4cb9b2e8>"
            ]
          },
          "metadata": {
            "tags": []
          },
          "execution_count": 7
        },
        {
          "output_type": "display_data",
          "data": {
            "image/png": "[encoded data removed]",
            "text/plain": [
              "<matplotlib.figure.Figure at 0x7f0a4cbaa160>"
            ]
          },
          "metadata": {
            "tags": []
          }
        }
      ]
    },
    {
      "metadata": {
        "id": "TKOhhl8CR_4R",
        "colab_type": "code",
        "colab": {}
      },
      "cell_type": "code",
      "source": [
        "import torch.nn as nn\n",
        "import torch.nn.functional as F"
      ],
      "execution_count": 0,
      "outputs": []
    },
    {
      "metadata": {
        "id": "kR4J2NwYScp1",
        "colab_type": "code",
        "colab": {
          "base_uri": "https://localhost:8080/",
          "height": 136
        },
        "outputId": "26a41e96-03e7-4900-d940-97d6bcd6d23b"
      },
      "cell_type": "code",
      "source": [
        "class ConvAutoencoder(nn.Module):\n",
        "  def __init__(self):\n",
        "    super(ConvAutoencoder, self).__init__()\n",
        "    \n",
        "    self.conv1 = nn.Conv2d(1, 16, 3, padding=1)\n",
        "    self.conv2 = nn.Conv2d(16, 4, 3, padding=1)\n",
        "    self.pool = nn.MaxPool2d(2, 2)\n",
        "    \n",
        "    ## decoder layers ##\n",
        "    ## a kernel of 2 and a stride of 2 will increase the spatial dims by 2\n",
        "    self.t_conv1 = nn.ConvTranspose2d(4, 16, 2, stride=2)\n",
        "    self.t_conv2 = nn.ConvTranspose2d(16, 1, 2, stride=2)\n",
        "    \n",
        "  def forward(self, x):\n",
        "    x = F.relu(self.conv1(x))\n",
        "    x = self.pool(x)\n",
        "    x = F.relu(self.conv2(x))\n",
        "    x = self.pool(x)\n",
        "    \n",
        "    x = F.relu(self.t_conv1(x))\n",
        "    x = torch.sigmoid(self.t_conv2(x))\n",
        "    \n",
        "    return x\n",
        "\n",
        "  \n",
        "model = ConvAutoencoder()\n",
        "print(model)"
      ],
      "execution_count": 11,
      "outputs": [
        {
          "output_type": "stream",
          "text": [
            "ConvAutoencoder(\n",
            "  (conv1): Conv2d(1, 16, kernel_size=(3, 3), stride=(1, 1), padding=(1, 1))\n",
            "  (conv2): Conv2d(16, 4, kernel_size=(3, 3), stride=(1, 1), padding=(1, 1))\n",
            "  (pool): MaxPool2d(kernel_size=2, stride=2, padding=0, dilation=1, ceil_mode=False)\n",
            "  (t_conv1): ConvTranspose2d(4, 16, kernel_size=(2, 2), stride=(2, 2))\n",
            "  (t_conv2): ConvTranspose2d(16, 1, kernel_size=(2, 2), stride=(2, 2))\n",
            ")\n"
          ],
          "name": "stdout"
        }
      ]
    },
    {
      "metadata": {
        "id": "9obQxc4UTMCS",
        "colab_type": "code",
        "colab": {}
      },
      "cell_type": "code",
      "source": [
        "criterion = nn.MSELoss()\n",
        "optimizer = torch.optim.Adam(model.parameters(), lr=0.001)"
      ],
      "execution_count": 0,
      "outputs": []
    },
    {
      "metadata": {
        "id": "ZqtZhythTvOm",
        "colab_type": "code",
        "colab": {
          "base_uri": "https://localhost:8080/",
          "height": 527
        },
        "outputId": "9fa4c6e6-8dc2-4141-de4d-378eed09a447"
      },
      "cell_type": "code",
      "source": [
        "n_epochs = 30\n",
        "\n",
        "for epoch in range(1, n_epochs+1):\n",
        "  \n",
        "  train_loss = 0.0\n",
        "  \n",
        "  for data in train_loader:\n",
        "    images, _ = data\n",
        "    optimizer.zero_grad()\n",
        "    outputs = model(images)\n",
        "    loss = criterion(outputs, images)\n",
        "    loss.backward()\n",
        "    optimizer.step()\n",
        "    train_loss += loss.item()*images.size(0)\n",
        "    \n",
        "  train_loss = train_loss/len(train_loader)\n",
        "  print('Epoch: {} \\tTraining Loss: {:.6f}'.format(\n",
        "        epoch, \n",
        "        train_loss\n",
        "        ))"
      ],
      "execution_count": 14,
      "outputs": [
        {
          "output_type": "stream",
          "text": [
            "Epoch: 1 \tTraining Loss: 0.516132\n",
            "Epoch: 2 \tTraining Loss: 0.370158\n",
            "Epoch: 3 \tTraining Loss: 0.320721\n",
            "Epoch: 4 \tTraining Loss: 0.295772\n",
            "Epoch: 5 \tTraining Loss: 0.280513\n",
            "Epoch: 6 \tTraining Loss: 0.270822\n",
            "Epoch: 7 \tTraining Loss: 0.264289\n",
            "Epoch: 8 \tTraining Loss: 0.259606\n",
            "Epoch: 9 \tTraining Loss: 0.256126\n",
            "Epoch: 10 \tTraining Loss: 0.253067\n",
            "Epoch: 11 \tTraining Loss: 0.248795\n",
            "Epoch: 12 \tTraining Loss: 0.245121\n",
            "Epoch: 13 \tTraining Loss: 0.242466\n",
            "Epoch: 14 \tTraining Loss: 0.240230\n",
            "Epoch: 15 \tTraining Loss: 0.237998\n",
            "Epoch: 16 \tTraining Loss: 0.235900\n",
            "Epoch: 17 \tTraining Loss: 0.234036\n",
            "Epoch: 18 \tTraining Loss: 0.232212\n",
            "Epoch: 19 \tTraining Loss: 0.230371\n",
            "Epoch: 20 \tTraining Loss: 0.228172\n",
            "Epoch: 21 \tTraining Loss: 0.226264\n",
            "Epoch: 22 \tTraining Loss: 0.224840\n",
            "Epoch: 23 \tTraining Loss: 0.223769\n",
            "Epoch: 24 \tTraining Loss: 0.222929\n",
            "Epoch: 25 \tTraining Loss: 0.222263\n",
            "Epoch: 26 \tTraining Loss: 0.221707\n",
            "Epoch: 27 \tTraining Loss: 0.221223\n",
            "Epoch: 28 \tTraining Loss: 0.220782\n",
            "Epoch: 29 \tTraining Loss: 0.220391\n",
            "Epoch: 30 \tTraining Loss: 0.220028\n"
          ],
          "name": "stdout"
        }
      ]
    },
    {
      "metadata": {
        "id": "Dr4qvjWSUUAz",
        "colab_type": "code",
        "colab": {
          "base_uri": "https://localhost:8080/",
          "height": 268
        },
        "outputId": "f271bfa3-be42-41ca-ca9f-cdf02bfe2191"
      },
      "cell_type": "code",
      "source": [
        "dataiter = iter(test_loader)\n",
        "images, labels = dataiter.next()\n",
        "\n",
        "output = model(images)\n",
        "images = images.numpy()\n",
        "\n",
        "output = output.view(batch_size, 1, 28, 28)\n",
        "output = output.detach().numpy()\n",
        "\n",
        "fig, axes = plt.subplots(nrows=2, ncols=10, sharex=True, sharey=True, figsize=(25,4))\n",
        "\n",
        "for image, row in zip([images, output], axes):\n",
        "  for img, ax in zip(images, row):\n",
        "    ax.imshow(np.squeeze(img), cmap='gray')\n",
        "    ax.get_xaxis().set_visible(False)\n",
        "    ax.get_yaxis().set_visible(False)\n",
        "    "
      ],
      "execution_count": 16,
      "outputs": [
        {
          "output_type": "display_data",
          "data": {
            "image/png": "[encoded data removed]",
            "text/plain": [
              "<matplotlib.figure.Figure at 0x7f0a48a2a7b8>"
            ]
          },
          "metadata": {
            "tags": []
          }
        }
      ]
    },
    {
      "metadata": {
        "id": "2EQoh-0UY-WH",
        "colab_type": "code",
        "colab": {}
      },
      "cell_type": "code",
      "source": [
        ""
      ],
      "execution_count": 0,
      "outputs": []
    }
  ]
}